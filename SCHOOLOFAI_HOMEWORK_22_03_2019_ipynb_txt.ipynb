{
  "nbformat": 4,
  "nbformat_minor": 0,
  "metadata": {
    "colab": {
      "name": "SCHOOLOFAI HOMEWORK 22/03/2019.ipynb.txt",
      "version": "0.3.2",
      "provenance": [],
      "include_colab_link": true
    },
    "kernelspec": {
      "display_name": "Python 3",
      "language": "python",
      "name": "python3"
    }
  },
  "cells": [
    {
      "cell_type": "markdown",
      "metadata": {
        "id": "view-in-github",
        "colab_type": "text"
      },
      "source": [
        "<a href=\"https://colab.research.google.com/github/busyML/SCHOOL-OF-AI-CDMX-HOMEWORK/blob/master/SCHOOLOFAI_HOMEWORK_22_03_2019_ipynb_txt.ipynb\" target=\"_parent\"><img src=\"https://colab.research.google.com/assets/colab-badge.svg\" alt=\"Open In Colab\"/></a>"
      ]
    },
    {
      "metadata": {
        "id": "X9qvmkiaUpvK",
        "colab_type": "text"
      },
      "cell_type": "markdown",
      "source": [
        "# Aprendizaje Supervisado"
      ]
    },
    {
      "metadata": {
        "id": "GqCoKLiAUpv1",
        "colab_type": "text"
      },
      "cell_type": "markdown",
      "source": [
        "En el aprendizaje de máquina, hay tres tipos de aprendizaje distintos:\n",
        "* Aprendizaje Supervisado (Supervised Learning)\n",
        "* Aprendizaje sin Supervisión (Unsupervised Learning)\n",
        "* Aprendizaje de Refuerzo (Reinforcement Learning)\n",
        "\n",
        "\n",
        "El aprendizaje supervisado es el primero que aprenderemos. Este se caracteriza por tener *labels* además de los datos, o sea, un dataset de entrenamiento que ya tenga las \"respuestas\".\n",
        "Existen varias tareas que se pueden hacer usando aprendizaje de máquina, cada una de estas se puede hacer de forma supervisada, sin supervisión o con refuerzo. Comunmente, utilizaremos solamente seis tipos:\n",
        "* Selección de características\n",
        "* Clasificación\n",
        "* Regresión\n",
        "* Clustering\n",
        "* Optimización\n",
        "* Ranking"
      ]
    },
    {
      "metadata": {
        "id": "dkt_W6poUpwO",
        "colab_type": "text"
      },
      "cell_type": "markdown",
      "source": [
        "## Ejemplo simple de clasificación"
      ]
    },
    {
      "metadata": {
        "id": "qIuY3gIyUpw3",
        "colab_type": "text"
      },
      "cell_type": "markdown",
      "source": [
        "Un dataset que se utiliza mucho cuando se enseña aprendizaje de máquia es el Iris Dataset: consiste de tres diferentes tipos de flores y sus características.\n",
        "\n",
        "**Iris Setosa**\n",
        "\n",
        "<img src=\"iris_setosa.jpg\" width=\"20%\">\n",
        "\n",
        "**Iris Versicolor**\n",
        "<img src=\"iris_versicolor.jpg\" width=\"20%\">\n",
        "\n",
        "**Iris Virginica**\n",
        "<img src=\"iris_virginica.jpg\" width=\"20%\">"
      ]
    },
    {
      "metadata": {
        "id": "R54oOxMuUpxQ",
        "colab_type": "text"
      },
      "cell_type": "markdown",
      "source": [
        "Este dataset tiene características muy sencillas, por lo que es muy fácil de explicar y entender.\n",
        "\n",
        "1. Las características que tiene son:\n",
        "    - Longitud del sépalo en cm\n",
        "    - Anchura del sépalo en cm\n",
        "    - Longitud del pétalo en cm\n",
        "    - Anchura del pétalo en cm\n",
        "\n",
        "\n",
        "2. Y se tienen  que clasificar en tres diferentes clases:\n",
        "    - Iris Setosa\n",
        "    - Iris Versicolour\n",
        "    - Iris Virginica"
      ]
    },
    {
      "metadata": {
        "id": "CgONSLCeUpxk",
        "colab_type": "text"
      },
      "cell_type": "markdown",
      "source": [
        "#### Primero tenemos que cargar los datos"
      ]
    },
    {
      "metadata": {
        "id": "4Nw_dwHnUpx6",
        "colab_type": "code",
        "colab": {}
      },
      "cell_type": "code",
      "source": [
        "from sklearn.datasets import load_iris\n",
        "iris = load_iris()"
      ],
      "execution_count": 0,
      "outputs": []
    },
    {
      "metadata": {
        "id": "uxHxnkTyUp0E",
        "colab_type": "text"
      },
      "cell_type": "markdown",
      "source": [
        "Este es un objeto tipo `Bunch`. Se pueden ver las claves utilizando el método `keys()`."
      ]
    },
    {
      "metadata": {
        "id": "INrXioCfUp0L",
        "colab_type": "code",
        "outputId": "259acdcb-e54d-4255-93a6-c0ece2b27e12",
        "colab": {
          "base_uri": "https://localhost:8080/",
          "height": 34
        }
      },
      "cell_type": "code",
      "source": [
        "type(iris)"
      ],
      "execution_count": 2,
      "outputs": [
        {
          "output_type": "execute_result",
          "data": {
            "text/plain": [
              "sklearn.utils.Bunch"
            ]
          },
          "metadata": {
            "tags": []
          },
          "execution_count": 2
        }
      ]
    },
    {
      "metadata": {
        "id": "ZyXdqxyCUp2k",
        "colab_type": "code",
        "outputId": "3f548d99-8218-469f-aac4-bceac1eff8d3",
        "colab": {
          "base_uri": "https://localhost:8080/",
          "height": 34
        }
      },
      "cell_type": "code",
      "source": [
        "iris.keys()"
      ],
      "execution_count": 3,
      "outputs": [
        {
          "output_type": "execute_result",
          "data": {
            "text/plain": [
              "dict_keys(['data', 'target', 'target_names', 'DESCR', 'feature_names', 'filename'])"
            ]
          },
          "metadata": {
            "tags": []
          },
          "execution_count": 3
        }
      ]
    },
    {
      "metadata": {
        "id": "7iMNypCwUp3n",
        "colab_type": "code",
        "outputId": "96bf8059-599b-47f1-d181-10e34b4f284d",
        "colab": {
          "base_uri": "https://localhost:8080/",
          "height": 34
        }
      },
      "cell_type": "code",
      "source": [
        "len(iris.data)"
      ],
      "execution_count": 4,
      "outputs": [
        {
          "output_type": "execute_result",
          "data": {
            "text/plain": [
              "150"
            ]
          },
          "metadata": {
            "tags": []
          },
          "execution_count": 4
        }
      ]
    },
    {
      "metadata": {
        "id": "gUTJbJjiUp5H",
        "colab_type": "code",
        "outputId": "2715d150-ffce-4c3a-f13e-2329a618086f",
        "colab": {
          "base_uri": "https://localhost:8080/",
          "height": 34
        }
      },
      "cell_type": "code",
      "source": [
        "iris.data[0]"
      ],
      "execution_count": 5,
      "outputs": [
        {
          "output_type": "execute_result",
          "data": {
            "text/plain": [
              "array([5.1, 3.5, 1.4, 0.2])"
            ]
          },
          "metadata": {
            "tags": []
          },
          "execution_count": 5
        }
      ]
    },
    {
      "metadata": {
        "id": "LzHgLBjRUp6J",
        "colab_type": "code",
        "outputId": "f016de32-8c2f-4d49-e048-690ccba6dcdc",
        "colab": {
          "base_uri": "https://localhost:8080/",
          "height": 85
        }
      },
      "cell_type": "code",
      "source": [
        "iris.feature_names"
      ],
      "execution_count": 6,
      "outputs": [
        {
          "output_type": "execute_result",
          "data": {
            "text/plain": [
              "['sepal length (cm)',\n",
              " 'sepal width (cm)',\n",
              " 'petal length (cm)',\n",
              " 'petal width (cm)']"
            ]
          },
          "metadata": {
            "tags": []
          },
          "execution_count": 6
        }
      ]
    },
    {
      "metadata": {
        "id": "eqWRQprKUp7Z",
        "colab_type": "code",
        "outputId": "0fabb3bb-abcf-4a89-cba2-b422ffbb7345",
        "colab": {
          "base_uri": "https://localhost:8080/",
          "height": 136
        }
      },
      "cell_type": "code",
      "source": [
        "iris.target"
      ],
      "execution_count": 7,
      "outputs": [
        {
          "output_type": "execute_result",
          "data": {
            "text/plain": [
              "array([0, 0, 0, 0, 0, 0, 0, 0, 0, 0, 0, 0, 0, 0, 0, 0, 0, 0, 0, 0, 0, 0,\n",
              "       0, 0, 0, 0, 0, 0, 0, 0, 0, 0, 0, 0, 0, 0, 0, 0, 0, 0, 0, 0, 0, 0,\n",
              "       0, 0, 0, 0, 0, 0, 1, 1, 1, 1, 1, 1, 1, 1, 1, 1, 1, 1, 1, 1, 1, 1,\n",
              "       1, 1, 1, 1, 1, 1, 1, 1, 1, 1, 1, 1, 1, 1, 1, 1, 1, 1, 1, 1, 1, 1,\n",
              "       1, 1, 1, 1, 1, 1, 1, 1, 1, 1, 1, 1, 2, 2, 2, 2, 2, 2, 2, 2, 2, 2,\n",
              "       2, 2, 2, 2, 2, 2, 2, 2, 2, 2, 2, 2, 2, 2, 2, 2, 2, 2, 2, 2, 2, 2,\n",
              "       2, 2, 2, 2, 2, 2, 2, 2, 2, 2, 2, 2, 2, 2, 2, 2, 2, 2])"
            ]
          },
          "metadata": {
            "tags": []
          },
          "execution_count": 7
        }
      ]
    },
    {
      "metadata": {
        "id": "005RfVKlUp9L",
        "colab_type": "code",
        "outputId": "ab08a790-e5e1-4dc8-f6df-097942c8d552",
        "colab": {
          "base_uri": "https://localhost:8080/",
          "height": 34
        }
      },
      "cell_type": "code",
      "source": [
        "iris.target_names"
      ],
      "execution_count": 8,
      "outputs": [
        {
          "output_type": "execute_result",
          "data": {
            "text/plain": [
              "array(['setosa', 'versicolor', 'virginica'], dtype='<U10')"
            ]
          },
          "metadata": {
            "tags": []
          },
          "execution_count": 8
        }
      ]
    },
    {
      "metadata": {
        "id": "qYIquZgvUp98",
        "colab_type": "code",
        "outputId": "166aae20-de37-404b-b549-c0820780a893",
        "colab": {
          "base_uri": "https://localhost:8080/",
          "height": 34
        }
      },
      "cell_type": "code",
      "source": [
        "iris.data.shape"
      ],
      "execution_count": 9,
      "outputs": [
        {
          "output_type": "execute_result",
          "data": {
            "text/plain": [
              "(150, 4)"
            ]
          },
          "metadata": {
            "tags": []
          },
          "execution_count": 9
        }
      ]
    },
    {
      "metadata": {
        "id": "3o_G9Q67Up-1",
        "colab_type": "text"
      },
      "cell_type": "markdown",
      "source": [
        "Los datos tienen cuatro características (a veces se dice que tiene cuatro dimensiones), pero se pueden graficar dos de ellas para que sea más fácil visualizarlo."
      ]
    },
    {
      "metadata": {
        "id": "YVMKFrwVUp_D",
        "colab_type": "code",
        "outputId": "d48b3c79-f8c5-480b-eda9-fc7f1e0996a3",
        "colab": {
          "base_uri": "https://localhost:8080/",
          "height": 351
        }
      },
      "cell_type": "code",
      "source": [
        "%matplotlib inline\n",
        "import matplotlib.pyplot as plt\n",
        "\n",
        "x_index = 2\n",
        "y_index = 3\n",
        "\n",
        "\n",
        "print()\n",
        "print(iris.feature_names[x_index])\n",
        "print(iris.feature_names[y_index])\n",
        "\n",
        "# this formatter will label the colorbar with the correct target names\n",
        "formatter = plt.FuncFormatter(lambda i, *args: iris.target_names[int(i)])\n",
        "\n",
        "plt.scatter(iris.data[:, x_index], iris.data[:, y_index], c=iris.target)\n",
        "plt.colorbar(ticks=[0, 1, 2], format=formatter)\n",
        "plt.xlabel(iris.feature_names[x_index])\n",
        "plt.ylabel(iris.feature_names[y_index])"
      ],
      "execution_count": 10,
      "outputs": [
        {
          "output_type": "stream",
          "text": [
            "\n",
            "petal length (cm)\n",
            "petal width (cm)\n"
          ],
          "name": "stdout"
        },
        {
          "output_type": "execute_result",
          "data": {
            "text/plain": [
              "Text(0, 0.5, 'petal width (cm)')"
            ]
          },
          "metadata": {
            "tags": []
          },
          "execution_count": 10
        },
        {
          "output_type": "display_data",
          "data": {
            "image/png": "[encoded data removed]",
            "text/plain": [
              "<Figure size 432x288 with 2 Axes>"
            ]
          },
          "metadata": {
            "tags": []
          }
        }
      ]
    },
    {
      "metadata": {
        "id": "8IkzRqhaUqAV",
        "colab_type": "text"
      },
      "cell_type": "markdown",
      "source": [
        "Como se puede ver en la gráfica, utilizando solamente dos de las cuatro características se pueden diferenciar mucho las diferentes flores."
      ]
    },
    {
      "metadata": {
        "id": "7D0O3xhwUqA4",
        "colab_type": "text"
      },
      "cell_type": "markdown",
      "source": [
        "#### Ejercicio rápido"
      ]
    },
    {
      "metadata": {
        "id": "T7ajtVA4UqBH",
        "colab_type": "text"
      },
      "cell_type": "markdown",
      "source": [
        "Cambia los números en `x_index` y en `y_index` y ve los diferentes resultados."
      ]
    },
    {
      "metadata": {
        "id": "El836iAjUqBy",
        "colab_type": "text"
      },
      "cell_type": "markdown",
      "source": [
        "## Entranamiento y pruebas"
      ]
    },
    {
      "metadata": {
        "id": "JZc9ahPLUqCM",
        "colab_type": "code",
        "colab": {}
      },
      "cell_type": "code",
      "source": [
        "from sklearn.model_selection import train_test_split\n",
        "X_train, X_test, y_train, y_test = train_test_split(iris.data, iris.target, test_size=0.70)\n",
        "\n",
        "# Vamos a utilizar una variación gaussiana de Naive Bayes\n",
        "from sklearn.naive_bayes import GaussianNB\n",
        "from sklearn.ensemble import RandomForestClassifier\n",
        "from sklearn.neighbors import KNeighborsClassifier\n",
        "\n",
        "# Entrenamos el modelo de Naive Bayes\n",
        "#model = GaussianNB()\n",
        "#model = RandomForestClassifier()\n",
        "#model = KNeighborsClassifier()\n",
        "models = [GaussianNB(), RandomForestClassifier(n_estimators=50), KNeighborsClassifier()]\n",
        "#for i in range(0, len(models)):\n",
        "    #models[i].fit(X_train, y_train)\n",
        "#model.fit(X_train, y_train)\n",
        "\n",
        "# Hacer las predicciones\n",
        "#expected = y_test\n",
        "#predicted = [models.predict(X_test) for model in models]"
      ],
      "execution_count": 0,
      "outputs": []
    },
    {
      "metadata": {
        "id": "F0qgN9hiUqEf",
        "colab_type": "code",
        "colab": {}
      },
      "cell_type": "code",
      "source": [
        "# Importamos  metrics de sklearn\n",
        "#from sklearn import metrics\n",
        "\n",
        "# checamos cómo le fue al modelo\n",
        "\n",
        "#print(metrics.accuracy_score(expected, predicted[1]))\n",
        "#print(metrics.classification_report(expected, predicted[1]))\n",
        "#print(metrics.confusion_matrix(expected, predicted[1]))"
      ],
      "execution_count": 0,
      "outputs": []
    },
    {
      "metadata": {
        "id": "tqy3WL3AUqF4",
        "colab_type": "text"
      },
      "cell_type": "markdown",
      "source": [
        "# Práctica"
      ]
    },
    {
      "metadata": {
        "id": "C8XeLQHNUqGX",
        "colab_type": "text"
      },
      "cell_type": "markdown",
      "source": [
        "Vamos a utilizar lo que aprendimos hoy y en las semanas anteriores en un dataset de Kaggle. Hagan un nuevo Jupyter Notebook y utilicen Pandas y sklearn para sacar predicciones sobre los ganadores en partidos de futbol de la fifa."
      ]
    },
    {
      "metadata": {
        "id": "zdXMp8UXY0dB",
        "colab_type": "code",
        "outputId": "f894ddba-2985-4ffe-eec5-6c5ac658ae67",
        "colab": {
          "base_uri": "https://localhost:8080/",
          "height": 119
        }
      },
      "cell_type": "code",
      "source": [
        "import pandas as pd\n",
        "\n",
        "fifa_data=pd.read_csv(\"https://raw.githubusercontent.com/SchoolOfAICDMX/Procesamiento-de-Datos-y-Aprendizaje-Supervisado/master/fifa_ranking.csv\")\n",
        "\n",
        "world_cup_data=pd.read_csv(\"https://raw.githubusercontent.com/SchoolOfAICDMX/Procesamiento-de-Datos-y-Aprendizaje-Supervisado/master/WorldCupMatches.csv\")\n",
        "\n",
        "fifa_data.columns"
      ],
      "execution_count": 13,
      "outputs": [
        {
          "output_type": "execute_result",
          "data": {
            "text/plain": [
              "Index(['rank', 'country_full', 'country_abrv', 'total_points',\n",
              "       'previous_points', 'rank_change', 'cur_year_avg',\n",
              "       'cur_year_avg_weighted', 'last_year_avg', 'last_year_avg_weighted',\n",
              "       'two_year_ago_avg', 'two_year_ago_weighted', 'three_year_ago_avg',\n",
              "       'three_year_ago_weighted', 'confederation', 'rank_date'],\n",
              "      dtype='object')"
            ]
          },
          "metadata": {
            "tags": []
          },
          "execution_count": 13
        }
      ]
    },
    {
      "metadata": {
        "id": "Rk3W2eXUaBXT",
        "colab_type": "code",
        "outputId": "7a4caf8c-9671-4174-b026-41c87de5ab94",
        "colab": {
          "base_uri": "https://localhost:8080/",
          "height": 119
        }
      },
      "cell_type": "code",
      "source": [
        "world_cup_data.columns"
      ],
      "execution_count": 14,
      "outputs": [
        {
          "output_type": "execute_result",
          "data": {
            "text/plain": [
              "Index(['Year', 'Datetime', 'Stage', 'Stadium', 'City', 'Home Team Name',\n",
              "       'Home Team Goals', 'Away Team Goals', 'Away Team Name',\n",
              "       'Win conditions', 'Attendance', 'Half-time Home Goals',\n",
              "       'Half-time Away Goals', 'Referee', 'Assistant 1', 'Assistant 2',\n",
              "       'RoundID', 'MatchID', 'Home Team Initials', 'Away Team Initials'],\n",
              "      dtype='object')"
            ]
          },
          "metadata": {
            "tags": []
          },
          "execution_count": 14
        }
      ]
    },
    {
      "metadata": {
        "id": "beotRTPxCe60",
        "colab_type": "code",
        "colab": {}
      },
      "cell_type": "code",
      "source": [
        "match_predicition_data=pd.read_csv(\"https://raw.githubusercontent.com/SchoolOfAICDMX/Procesamiento-de-Datos-y-Aprendizaje-Supervisado/master/dataset.csv\", error_bad_lines=False)"
      ],
      "execution_count": 0,
      "outputs": []
    },
    {
      "metadata": {
        "id": "pTAbZksgCwFl",
        "colab_type": "code",
        "colab": {
          "base_uri": "https://localhost:8080/",
          "height": 68
        },
        "outputId": "f38ba5aa-9812-4f00-f518-4fb06af58ac9"
      },
      "cell_type": "code",
      "source": [
        "match_predicition_data.columns"
      ],
      "execution_count": 16,
      "outputs": [
        {
          "output_type": "execute_result",
          "data": {
            "text/plain": [
              "Index(['Unnamed: 0', 'Datetime', 'Home Team Initials', 'Away Team Initials',\n",
              "       'Winner', 'Home Rank', 'Away Rank'],\n",
              "      dtype='object')"
            ]
          },
          "metadata": {
            "tags": []
          },
          "execution_count": 16
        }
      ]
    },
    {
      "metadata": {
        "id": "_LrCArZ0DSCw",
        "colab_type": "code",
        "colab": {}
      },
      "cell_type": "code",
      "source": [
        "match_predicition_data[\"Host Country\"]= pd.DataFrame(\"?\", index=range(len(match_predicition_data)), columns=range(1))\n",
        "match_predicition_data[\"Is Home Host?\"]= pd.DataFrame(0, index=range(len(match_predicition_data)), columns=range(1))\n",
        "match_predicition_data[\"Is Away Host?\"]= pd.DataFrame(0, index=range(len(match_predicition_data)), columns=range(1))\n",
        "\n",
        "\n",
        "for i,item in enumerate(match_predicition_data[\"Host Country\"]):\n",
        "    if \"1994\" in match_predicition_data[\"Datetime\"].iloc[i]:\n",
        "               match_predicition_data.loc[i, 'Host Country'] = \"USA\"\n",
        "    if \"1998\" in match_predicition_data[\"Datetime\"].iloc[i]:\n",
        "               match_predicition_data.loc[i, 'Host Country'] = \"FRA\"\n",
        "    if \"2002\" in match_predicition_data[\"Datetime\"].iloc[i]:\n",
        "               match_predicition_data.loc[i, 'Host Country'] = \"JPN KOR\"\n",
        "    if \"2006\" in match_predicition_data[\"Datetime\"].iloc[i]:\n",
        "               match_predicition_data.loc[i, 'Host Country'] = \"GER\"\n",
        "    if \"2010\" in match_predicition_data[\"Datetime\"].iloc[i]:\n",
        "               match_predicition_data.loc[i, 'Host Country'] = \"RSA\"\n",
        "    if \"2014\" in match_predicition_data[\"Datetime\"].iloc[i]:\n",
        "               match_predicition_data.loc[i, 'Host Country'] = \"BRA\"\n",
        "\n",
        "for i,item in enumerate(match_predicition_data[\"Host Country\"]):\n",
        "  if str(match_predicition_data[\"Host Country\"].iloc[i]) in str(match_predicition_data[\"Home Team Initials\"].iloc[i]):\n",
        "    print(\"t\")\n",
        "    match_predicition_data.loc[i, 'Is Home Host?']=1\n",
        "  if str(match_predicition_data[\"Host Country\"].iloc[i]) in str(match_predicition_data[\"Away Team Initials\"].iloc[i]):\n",
        "    match_predicition_data.loc[i, 'Is Away Host?']=1\n",
        "    \n",
        "\n",
        "      "
      ],
      "execution_count": 0,
      "outputs": []
    },
    {
      "metadata": {
        "id": "OTSVjXb3EWVS",
        "colab_type": "code",
        "colab": {
          "base_uri": "https://localhost:8080/",
          "height": 1969
        },
        "outputId": "733569ca-b78f-4714-875d-c9face610525"
      },
      "cell_type": "code",
      "source": [
        "match_predicition_data"
      ],
      "execution_count": 33,
      "outputs": [
        {
          "output_type": "execute_result",
          "data": {
            "text/html": [
              "<div>\n",
              "<style scoped>\n",
              "    .dataframe tbody tr th:only-of-type {\n",
              "        vertical-align: middle;\n",
              "    }\n",
              "\n",
              "    .dataframe tbody tr th {\n",
              "        vertical-align: top;\n",
              "    }\n",
              "\n",
              "    .dataframe thead th {\n",
              "        text-align: right;\n",
              "    }\n",
              "</style>\n",
              "<table border=\"1\" class=\"dataframe\">\n",
              "  <thead>\n",
              "    <tr style=\"text-align: right;\">\n",
              "      <th></th>\n",
              "      <th>Unnamed: 0</th>\n",
              "      <th>Datetime</th>\n",
              "      <th>Home Team Initials</th>\n",
              "      <th>Away Team Initials</th>\n",
              "      <th>Winner</th>\n",
              "      <th>Home Rank</th>\n",
              "      <th>Away Rank</th>\n",
              "      <th>Host Country</th>\n",
              "      <th>Is Home Host?</th>\n",
              "      <th>Is Away Host?</th>\n",
              "    </tr>\n",
              "  </thead>\n",
              "  <tbody>\n",
              "    <tr>\n",
              "      <th>0</th>\n",
              "      <td>0</td>\n",
              "      <td>1994-06-17</td>\n",
              "      <td>ESP</td>\n",
              "      <td>KOR</td>\n",
              "      <td>tie</td>\n",
              "      <td>5</td>\n",
              "      <td>37</td>\n",
              "      <td>USA</td>\n",
              "      <td>0</td>\n",
              "      <td>0</td>\n",
              "    </tr>\n",
              "    <tr>\n",
              "      <th>1</th>\n",
              "      <td>1</td>\n",
              "      <td>1994-06-17</td>\n",
              "      <td>GER</td>\n",
              "      <td>BOL</td>\n",
              "      <td>Home</td>\n",
              "      <td>1</td>\n",
              "      <td>43</td>\n",
              "      <td>USA</td>\n",
              "      <td>0</td>\n",
              "      <td>0</td>\n",
              "    </tr>\n",
              "    <tr>\n",
              "      <th>2</th>\n",
              "      <td>2</td>\n",
              "      <td>1994-06-18</td>\n",
              "      <td>USA</td>\n",
              "      <td>SUI</td>\n",
              "      <td>tie</td>\n",
              "      <td>23</td>\n",
              "      <td>12</td>\n",
              "      <td>USA</td>\n",
              "      <td>1</td>\n",
              "      <td>0</td>\n",
              "    </tr>\n",
              "    <tr>\n",
              "      <th>3</th>\n",
              "      <td>3</td>\n",
              "      <td>1994-06-18</td>\n",
              "      <td>ITA</td>\n",
              "      <td>IRL</td>\n",
              "      <td>Away</td>\n",
              "      <td>4</td>\n",
              "      <td>14</td>\n",
              "      <td>USA</td>\n",
              "      <td>0</td>\n",
              "      <td>0</td>\n",
              "    </tr>\n",
              "    <tr>\n",
              "      <th>4</th>\n",
              "      <td>4</td>\n",
              "      <td>1994-06-18</td>\n",
              "      <td>COL</td>\n",
              "      <td>ROU</td>\n",
              "      <td>Away</td>\n",
              "      <td>17</td>\n",
              "      <td>7</td>\n",
              "      <td>USA</td>\n",
              "      <td>0</td>\n",
              "      <td>0</td>\n",
              "    </tr>\n",
              "    <tr>\n",
              "      <th>5</th>\n",
              "      <td>5</td>\n",
              "      <td>1994-06-19</td>\n",
              "      <td>BEL</td>\n",
              "      <td>MAR</td>\n",
              "      <td>Home</td>\n",
              "      <td>27</td>\n",
              "      <td>28</td>\n",
              "      <td>USA</td>\n",
              "      <td>0</td>\n",
              "      <td>0</td>\n",
              "    </tr>\n",
              "    <tr>\n",
              "      <th>6</th>\n",
              "      <td>6</td>\n",
              "      <td>1994-06-19</td>\n",
              "      <td>NOR</td>\n",
              "      <td>MEX</td>\n",
              "      <td>Home</td>\n",
              "      <td>6</td>\n",
              "      <td>16</td>\n",
              "      <td>USA</td>\n",
              "      <td>0</td>\n",
              "      <td>0</td>\n",
              "    </tr>\n",
              "    <tr>\n",
              "      <th>7</th>\n",
              "      <td>7</td>\n",
              "      <td>1994-06-19</td>\n",
              "      <td>CMR</td>\n",
              "      <td>SWE</td>\n",
              "      <td>tie</td>\n",
              "      <td>24</td>\n",
              "      <td>10</td>\n",
              "      <td>USA</td>\n",
              "      <td>0</td>\n",
              "      <td>0</td>\n",
              "    </tr>\n",
              "    <tr>\n",
              "      <th>8</th>\n",
              "      <td>8</td>\n",
              "      <td>1994-06-20</td>\n",
              "      <td>NED</td>\n",
              "      <td>KSA</td>\n",
              "      <td>Home</td>\n",
              "      <td>2</td>\n",
              "      <td>34</td>\n",
              "      <td>USA</td>\n",
              "      <td>0</td>\n",
              "      <td>0</td>\n",
              "    </tr>\n",
              "    <tr>\n",
              "      <th>9</th>\n",
              "      <td>9</td>\n",
              "      <td>1994-06-20</td>\n",
              "      <td>BRA</td>\n",
              "      <td>RUS</td>\n",
              "      <td>Home</td>\n",
              "      <td>3</td>\n",
              "      <td>19</td>\n",
              "      <td>USA</td>\n",
              "      <td>0</td>\n",
              "      <td>0</td>\n",
              "    </tr>\n",
              "    <tr>\n",
              "      <th>10</th>\n",
              "      <td>10</td>\n",
              "      <td>1994-06-21</td>\n",
              "      <td>ARG</td>\n",
              "      <td>GRE</td>\n",
              "      <td>Home</td>\n",
              "      <td>8</td>\n",
              "      <td>31</td>\n",
              "      <td>USA</td>\n",
              "      <td>0</td>\n",
              "      <td>0</td>\n",
              "    </tr>\n",
              "    <tr>\n",
              "      <th>11</th>\n",
              "      <td>11</td>\n",
              "      <td>1994-06-21</td>\n",
              "      <td>NGA</td>\n",
              "      <td>BUL</td>\n",
              "      <td>Home</td>\n",
              "      <td>11</td>\n",
              "      <td>29</td>\n",
              "      <td>USA</td>\n",
              "      <td>0</td>\n",
              "      <td>0</td>\n",
              "    </tr>\n",
              "    <tr>\n",
              "      <th>12</th>\n",
              "      <td>12</td>\n",
              "      <td>1994-06-21</td>\n",
              "      <td>GER</td>\n",
              "      <td>ESP</td>\n",
              "      <td>tie</td>\n",
              "      <td>1</td>\n",
              "      <td>5</td>\n",
              "      <td>USA</td>\n",
              "      <td>0</td>\n",
              "      <td>0</td>\n",
              "    </tr>\n",
              "    <tr>\n",
              "      <th>13</th>\n",
              "      <td>13</td>\n",
              "      <td>1994-06-22</td>\n",
              "      <td>ROU</td>\n",
              "      <td>SUI</td>\n",
              "      <td>Away</td>\n",
              "      <td>7</td>\n",
              "      <td>12</td>\n",
              "      <td>USA</td>\n",
              "      <td>0</td>\n",
              "      <td>0</td>\n",
              "    </tr>\n",
              "    <tr>\n",
              "      <th>14</th>\n",
              "      <td>14</td>\n",
              "      <td>1994-06-22</td>\n",
              "      <td>USA</td>\n",
              "      <td>COL</td>\n",
              "      <td>Home</td>\n",
              "      <td>23</td>\n",
              "      <td>17</td>\n",
              "      <td>USA</td>\n",
              "      <td>1</td>\n",
              "      <td>0</td>\n",
              "    </tr>\n",
              "    <tr>\n",
              "      <th>15</th>\n",
              "      <td>15</td>\n",
              "      <td>1994-06-23</td>\n",
              "      <td>ITA</td>\n",
              "      <td>NOR</td>\n",
              "      <td>Home</td>\n",
              "      <td>4</td>\n",
              "      <td>6</td>\n",
              "      <td>USA</td>\n",
              "      <td>0</td>\n",
              "      <td>0</td>\n",
              "    </tr>\n",
              "    <tr>\n",
              "      <th>16</th>\n",
              "      <td>16</td>\n",
              "      <td>1994-06-23</td>\n",
              "      <td>KOR</td>\n",
              "      <td>BOL</td>\n",
              "      <td>tie</td>\n",
              "      <td>37</td>\n",
              "      <td>43</td>\n",
              "      <td>USA</td>\n",
              "      <td>0</td>\n",
              "      <td>0</td>\n",
              "    </tr>\n",
              "    <tr>\n",
              "      <th>17</th>\n",
              "      <td>17</td>\n",
              "      <td>1994-06-24</td>\n",
              "      <td>MEX</td>\n",
              "      <td>IRL</td>\n",
              "      <td>Home</td>\n",
              "      <td>16</td>\n",
              "      <td>14</td>\n",
              "      <td>USA</td>\n",
              "      <td>0</td>\n",
              "      <td>0</td>\n",
              "    </tr>\n",
              "    <tr>\n",
              "      <th>18</th>\n",
              "      <td>18</td>\n",
              "      <td>1994-06-24</td>\n",
              "      <td>SWE</td>\n",
              "      <td>RUS</td>\n",
              "      <td>Home</td>\n",
              "      <td>10</td>\n",
              "      <td>19</td>\n",
              "      <td>USA</td>\n",
              "      <td>0</td>\n",
              "      <td>0</td>\n",
              "    </tr>\n",
              "    <tr>\n",
              "      <th>19</th>\n",
              "      <td>19</td>\n",
              "      <td>1994-06-24</td>\n",
              "      <td>BRA</td>\n",
              "      <td>CMR</td>\n",
              "      <td>Home</td>\n",
              "      <td>3</td>\n",
              "      <td>24</td>\n",
              "      <td>USA</td>\n",
              "      <td>0</td>\n",
              "      <td>0</td>\n",
              "    </tr>\n",
              "    <tr>\n",
              "      <th>20</th>\n",
              "      <td>20</td>\n",
              "      <td>1994-06-25</td>\n",
              "      <td>BEL</td>\n",
              "      <td>NED</td>\n",
              "      <td>Home</td>\n",
              "      <td>27</td>\n",
              "      <td>2</td>\n",
              "      <td>USA</td>\n",
              "      <td>0</td>\n",
              "      <td>0</td>\n",
              "    </tr>\n",
              "    <tr>\n",
              "      <th>21</th>\n",
              "      <td>21</td>\n",
              "      <td>1994-06-25</td>\n",
              "      <td>KSA</td>\n",
              "      <td>MAR</td>\n",
              "      <td>Home</td>\n",
              "      <td>34</td>\n",
              "      <td>28</td>\n",
              "      <td>USA</td>\n",
              "      <td>0</td>\n",
              "      <td>0</td>\n",
              "    </tr>\n",
              "    <tr>\n",
              "      <th>22</th>\n",
              "      <td>22</td>\n",
              "      <td>1994-06-25</td>\n",
              "      <td>ARG</td>\n",
              "      <td>NGA</td>\n",
              "      <td>Home</td>\n",
              "      <td>8</td>\n",
              "      <td>11</td>\n",
              "      <td>USA</td>\n",
              "      <td>0</td>\n",
              "      <td>0</td>\n",
              "    </tr>\n",
              "    <tr>\n",
              "      <th>23</th>\n",
              "      <td>23</td>\n",
              "      <td>1994-06-26</td>\n",
              "      <td>BUL</td>\n",
              "      <td>GRE</td>\n",
              "      <td>Home</td>\n",
              "      <td>29</td>\n",
              "      <td>31</td>\n",
              "      <td>USA</td>\n",
              "      <td>0</td>\n",
              "      <td>0</td>\n",
              "    </tr>\n",
              "    <tr>\n",
              "      <th>24</th>\n",
              "      <td>24</td>\n",
              "      <td>1994-06-26</td>\n",
              "      <td>USA</td>\n",
              "      <td>ROU</td>\n",
              "      <td>Away</td>\n",
              "      <td>23</td>\n",
              "      <td>7</td>\n",
              "      <td>USA</td>\n",
              "      <td>1</td>\n",
              "      <td>0</td>\n",
              "    </tr>\n",
              "    <tr>\n",
              "      <th>25</th>\n",
              "      <td>25</td>\n",
              "      <td>1994-06-26</td>\n",
              "      <td>SUI</td>\n",
              "      <td>COL</td>\n",
              "      <td>Away</td>\n",
              "      <td>12</td>\n",
              "      <td>17</td>\n",
              "      <td>USA</td>\n",
              "      <td>0</td>\n",
              "      <td>0</td>\n",
              "    </tr>\n",
              "    <tr>\n",
              "      <th>26</th>\n",
              "      <td>26</td>\n",
              "      <td>1994-06-27</td>\n",
              "      <td>GER</td>\n",
              "      <td>KOR</td>\n",
              "      <td>Home</td>\n",
              "      <td>1</td>\n",
              "      <td>37</td>\n",
              "      <td>USA</td>\n",
              "      <td>0</td>\n",
              "      <td>0</td>\n",
              "    </tr>\n",
              "    <tr>\n",
              "      <th>27</th>\n",
              "      <td>27</td>\n",
              "      <td>1994-06-27</td>\n",
              "      <td>BOL</td>\n",
              "      <td>ESP</td>\n",
              "      <td>Away</td>\n",
              "      <td>43</td>\n",
              "      <td>5</td>\n",
              "      <td>USA</td>\n",
              "      <td>0</td>\n",
              "      <td>0</td>\n",
              "    </tr>\n",
              "    <tr>\n",
              "      <th>28</th>\n",
              "      <td>28</td>\n",
              "      <td>1994-06-28</td>\n",
              "      <td>IRL</td>\n",
              "      <td>NOR</td>\n",
              "      <td>tie</td>\n",
              "      <td>14</td>\n",
              "      <td>6</td>\n",
              "      <td>USA</td>\n",
              "      <td>0</td>\n",
              "      <td>0</td>\n",
              "    </tr>\n",
              "    <tr>\n",
              "      <th>29</th>\n",
              "      <td>29</td>\n",
              "      <td>1994-06-28</td>\n",
              "      <td>BRA</td>\n",
              "      <td>SWE</td>\n",
              "      <td>tie</td>\n",
              "      <td>3</td>\n",
              "      <td>10</td>\n",
              "      <td>USA</td>\n",
              "      <td>0</td>\n",
              "      <td>0</td>\n",
              "    </tr>\n",
              "    <tr>\n",
              "      <th>...</th>\n",
              "      <td>...</td>\n",
              "      <td>...</td>\n",
              "      <td>...</td>\n",
              "      <td>...</td>\n",
              "      <td>...</td>\n",
              "      <td>...</td>\n",
              "      <td>...</td>\n",
              "      <td>...</td>\n",
              "      <td>...</td>\n",
              "      <td>...</td>\n",
              "    </tr>\n",
              "    <tr>\n",
              "      <th>358</th>\n",
              "      <td>358</td>\n",
              "      <td>2014-06-30</td>\n",
              "      <td>FRA</td>\n",
              "      <td>NGA</td>\n",
              "      <td>Home</td>\n",
              "      <td>17</td>\n",
              "      <td>44</td>\n",
              "      <td>BRA</td>\n",
              "      <td>0</td>\n",
              "      <td>0</td>\n",
              "    </tr>\n",
              "    <tr>\n",
              "      <th>359</th>\n",
              "      <td>359</td>\n",
              "      <td>2014-06-30</td>\n",
              "      <td>GER</td>\n",
              "      <td>ALG</td>\n",
              "      <td>Home</td>\n",
              "      <td>2</td>\n",
              "      <td>22</td>\n",
              "      <td>BRA</td>\n",
              "      <td>0</td>\n",
              "      <td>0</td>\n",
              "    </tr>\n",
              "    <tr>\n",
              "      <th>360</th>\n",
              "      <td>360</td>\n",
              "      <td>2014-07-04</td>\n",
              "      <td>BRA</td>\n",
              "      <td>COL</td>\n",
              "      <td>Home</td>\n",
              "      <td>3</td>\n",
              "      <td>8</td>\n",
              "      <td>BRA</td>\n",
              "      <td>1</td>\n",
              "      <td>0</td>\n",
              "    </tr>\n",
              "    <tr>\n",
              "      <th>361</th>\n",
              "      <td>361</td>\n",
              "      <td>2014-07-04</td>\n",
              "      <td>FRA</td>\n",
              "      <td>GER</td>\n",
              "      <td>Away</td>\n",
              "      <td>17</td>\n",
              "      <td>2</td>\n",
              "      <td>BRA</td>\n",
              "      <td>0</td>\n",
              "      <td>0</td>\n",
              "    </tr>\n",
              "    <tr>\n",
              "      <th>362</th>\n",
              "      <td>362</td>\n",
              "      <td>2014-07-08</td>\n",
              "      <td>BRA</td>\n",
              "      <td>GER</td>\n",
              "      <td>Away</td>\n",
              "      <td>3</td>\n",
              "      <td>2</td>\n",
              "      <td>BRA</td>\n",
              "      <td>1</td>\n",
              "      <td>0</td>\n",
              "    </tr>\n",
              "    <tr>\n",
              "      <th>363</th>\n",
              "      <td>363</td>\n",
              "      <td>2014-07-12</td>\n",
              "      <td>BRA</td>\n",
              "      <td>NED</td>\n",
              "      <td>Away</td>\n",
              "      <td>3</td>\n",
              "      <td>15</td>\n",
              "      <td>BRA</td>\n",
              "      <td>1</td>\n",
              "      <td>0</td>\n",
              "    </tr>\n",
              "    <tr>\n",
              "      <th>364</th>\n",
              "      <td>364</td>\n",
              "      <td>2014-07-13</td>\n",
              "      <td>GER</td>\n",
              "      <td>ARG</td>\n",
              "      <td>Home</td>\n",
              "      <td>2</td>\n",
              "      <td>5</td>\n",
              "      <td>BRA</td>\n",
              "      <td>0</td>\n",
              "      <td>0</td>\n",
              "    </tr>\n",
              "    <tr>\n",
              "      <th>365</th>\n",
              "      <td>365</td>\n",
              "      <td>2014-07-09</td>\n",
              "      <td>NED</td>\n",
              "      <td>ARG</td>\n",
              "      <td>tie</td>\n",
              "      <td>15</td>\n",
              "      <td>5</td>\n",
              "      <td>BRA</td>\n",
              "      <td>0</td>\n",
              "      <td>0</td>\n",
              "    </tr>\n",
              "    <tr>\n",
              "      <th>366</th>\n",
              "      <td>366</td>\n",
              "      <td>2014-07-05</td>\n",
              "      <td>NED</td>\n",
              "      <td>CRC</td>\n",
              "      <td>tie</td>\n",
              "      <td>15</td>\n",
              "      <td>28</td>\n",
              "      <td>BRA</td>\n",
              "      <td>0</td>\n",
              "      <td>0</td>\n",
              "    </tr>\n",
              "    <tr>\n",
              "      <th>367</th>\n",
              "      <td>367</td>\n",
              "      <td>2014-07-05</td>\n",
              "      <td>ARG</td>\n",
              "      <td>BEL</td>\n",
              "      <td>Home</td>\n",
              "      <td>5</td>\n",
              "      <td>11</td>\n",
              "      <td>BRA</td>\n",
              "      <td>0</td>\n",
              "      <td>0</td>\n",
              "    </tr>\n",
              "    <tr>\n",
              "      <th>368</th>\n",
              "      <td>368</td>\n",
              "      <td>2014-06-29</td>\n",
              "      <td>NED</td>\n",
              "      <td>MEX</td>\n",
              "      <td>Home</td>\n",
              "      <td>15</td>\n",
              "      <td>20</td>\n",
              "      <td>BRA</td>\n",
              "      <td>0</td>\n",
              "      <td>0</td>\n",
              "    </tr>\n",
              "    <tr>\n",
              "      <th>369</th>\n",
              "      <td>369</td>\n",
              "      <td>2014-06-29</td>\n",
              "      <td>CRC</td>\n",
              "      <td>GRE</td>\n",
              "      <td>tie</td>\n",
              "      <td>28</td>\n",
              "      <td>12</td>\n",
              "      <td>BRA</td>\n",
              "      <td>0</td>\n",
              "      <td>0</td>\n",
              "    </tr>\n",
              "    <tr>\n",
              "      <th>370</th>\n",
              "      <td>370</td>\n",
              "      <td>2014-07-01</td>\n",
              "      <td>ARG</td>\n",
              "      <td>SUI</td>\n",
              "      <td>Home</td>\n",
              "      <td>5</td>\n",
              "      <td>6</td>\n",
              "      <td>BRA</td>\n",
              "      <td>0</td>\n",
              "      <td>0</td>\n",
              "    </tr>\n",
              "    <tr>\n",
              "      <th>371</th>\n",
              "      <td>371</td>\n",
              "      <td>2014-07-01</td>\n",
              "      <td>BEL</td>\n",
              "      <td>USA</td>\n",
              "      <td>Home</td>\n",
              "      <td>11</td>\n",
              "      <td>13</td>\n",
              "      <td>BRA</td>\n",
              "      <td>0</td>\n",
              "      <td>0</td>\n",
              "    </tr>\n",
              "    <tr>\n",
              "      <th>372</th>\n",
              "      <td>372</td>\n",
              "      <td>2014-06-28</td>\n",
              "      <td>BRA</td>\n",
              "      <td>CHI</td>\n",
              "      <td>tie</td>\n",
              "      <td>3</td>\n",
              "      <td>14</td>\n",
              "      <td>BRA</td>\n",
              "      <td>1</td>\n",
              "      <td>0</td>\n",
              "    </tr>\n",
              "    <tr>\n",
              "      <th>373</th>\n",
              "      <td>373</td>\n",
              "      <td>2014-06-28</td>\n",
              "      <td>COL</td>\n",
              "      <td>URU</td>\n",
              "      <td>Home</td>\n",
              "      <td>8</td>\n",
              "      <td>7</td>\n",
              "      <td>BRA</td>\n",
              "      <td>0</td>\n",
              "      <td>0</td>\n",
              "    </tr>\n",
              "    <tr>\n",
              "      <th>374</th>\n",
              "      <td>374</td>\n",
              "      <td>2014-06-29</td>\n",
              "      <td>NED</td>\n",
              "      <td>MEX</td>\n",
              "      <td>Home</td>\n",
              "      <td>15</td>\n",
              "      <td>20</td>\n",
              "      <td>BRA</td>\n",
              "      <td>0</td>\n",
              "      <td>0</td>\n",
              "    </tr>\n",
              "    <tr>\n",
              "      <th>375</th>\n",
              "      <td>375</td>\n",
              "      <td>2014-06-29</td>\n",
              "      <td>CRC</td>\n",
              "      <td>GRE</td>\n",
              "      <td>tie</td>\n",
              "      <td>28</td>\n",
              "      <td>12</td>\n",
              "      <td>BRA</td>\n",
              "      <td>0</td>\n",
              "      <td>0</td>\n",
              "    </tr>\n",
              "    <tr>\n",
              "      <th>376</th>\n",
              "      <td>376</td>\n",
              "      <td>2014-06-30</td>\n",
              "      <td>FRA</td>\n",
              "      <td>NGA</td>\n",
              "      <td>Home</td>\n",
              "      <td>17</td>\n",
              "      <td>44</td>\n",
              "      <td>BRA</td>\n",
              "      <td>0</td>\n",
              "      <td>0</td>\n",
              "    </tr>\n",
              "    <tr>\n",
              "      <th>377</th>\n",
              "      <td>377</td>\n",
              "      <td>2014-06-30</td>\n",
              "      <td>GER</td>\n",
              "      <td>ALG</td>\n",
              "      <td>Home</td>\n",
              "      <td>2</td>\n",
              "      <td>22</td>\n",
              "      <td>BRA</td>\n",
              "      <td>0</td>\n",
              "      <td>0</td>\n",
              "    </tr>\n",
              "    <tr>\n",
              "      <th>378</th>\n",
              "      <td>378</td>\n",
              "      <td>2014-07-01</td>\n",
              "      <td>ARG</td>\n",
              "      <td>SUI</td>\n",
              "      <td>Home</td>\n",
              "      <td>5</td>\n",
              "      <td>6</td>\n",
              "      <td>BRA</td>\n",
              "      <td>0</td>\n",
              "      <td>0</td>\n",
              "    </tr>\n",
              "    <tr>\n",
              "      <th>379</th>\n",
              "      <td>379</td>\n",
              "      <td>2014-07-01</td>\n",
              "      <td>BEL</td>\n",
              "      <td>USA</td>\n",
              "      <td>Home</td>\n",
              "      <td>11</td>\n",
              "      <td>13</td>\n",
              "      <td>BRA</td>\n",
              "      <td>0</td>\n",
              "      <td>0</td>\n",
              "    </tr>\n",
              "    <tr>\n",
              "      <th>380</th>\n",
              "      <td>380</td>\n",
              "      <td>2014-07-04</td>\n",
              "      <td>FRA</td>\n",
              "      <td>GER</td>\n",
              "      <td>Away</td>\n",
              "      <td>17</td>\n",
              "      <td>2</td>\n",
              "      <td>BRA</td>\n",
              "      <td>0</td>\n",
              "      <td>0</td>\n",
              "    </tr>\n",
              "    <tr>\n",
              "      <th>381</th>\n",
              "      <td>381</td>\n",
              "      <td>2014-07-04</td>\n",
              "      <td>BRA</td>\n",
              "      <td>COL</td>\n",
              "      <td>Home</td>\n",
              "      <td>3</td>\n",
              "      <td>8</td>\n",
              "      <td>BRA</td>\n",
              "      <td>1</td>\n",
              "      <td>0</td>\n",
              "    </tr>\n",
              "    <tr>\n",
              "      <th>382</th>\n",
              "      <td>382</td>\n",
              "      <td>2014-07-05</td>\n",
              "      <td>ARG</td>\n",
              "      <td>BEL</td>\n",
              "      <td>Home</td>\n",
              "      <td>5</td>\n",
              "      <td>11</td>\n",
              "      <td>BRA</td>\n",
              "      <td>0</td>\n",
              "      <td>0</td>\n",
              "    </tr>\n",
              "    <tr>\n",
              "      <th>383</th>\n",
              "      <td>383</td>\n",
              "      <td>2014-07-05</td>\n",
              "      <td>NED</td>\n",
              "      <td>CRC</td>\n",
              "      <td>tie</td>\n",
              "      <td>15</td>\n",
              "      <td>28</td>\n",
              "      <td>BRA</td>\n",
              "      <td>0</td>\n",
              "      <td>0</td>\n",
              "    </tr>\n",
              "    <tr>\n",
              "      <th>384</th>\n",
              "      <td>384</td>\n",
              "      <td>2014-07-08</td>\n",
              "      <td>BRA</td>\n",
              "      <td>GER</td>\n",
              "      <td>Away</td>\n",
              "      <td>3</td>\n",
              "      <td>2</td>\n",
              "      <td>BRA</td>\n",
              "      <td>1</td>\n",
              "      <td>0</td>\n",
              "    </tr>\n",
              "    <tr>\n",
              "      <th>385</th>\n",
              "      <td>385</td>\n",
              "      <td>2014-07-09</td>\n",
              "      <td>NED</td>\n",
              "      <td>ARG</td>\n",
              "      <td>tie</td>\n",
              "      <td>15</td>\n",
              "      <td>5</td>\n",
              "      <td>BRA</td>\n",
              "      <td>0</td>\n",
              "      <td>0</td>\n",
              "    </tr>\n",
              "    <tr>\n",
              "      <th>386</th>\n",
              "      <td>386</td>\n",
              "      <td>2014-07-12</td>\n",
              "      <td>BRA</td>\n",
              "      <td>NED</td>\n",
              "      <td>Away</td>\n",
              "      <td>3</td>\n",
              "      <td>15</td>\n",
              "      <td>BRA</td>\n",
              "      <td>1</td>\n",
              "      <td>0</td>\n",
              "    </tr>\n",
              "    <tr>\n",
              "      <th>387</th>\n",
              "      <td>387</td>\n",
              "      <td>2014-07-13</td>\n",
              "      <td>GER</td>\n",
              "      <td>ARG</td>\n",
              "      <td>Home</td>\n",
              "      <td>2</td>\n",
              "      <td>5</td>\n",
              "      <td>BRA</td>\n",
              "      <td>0</td>\n",
              "      <td>0</td>\n",
              "    </tr>\n",
              "  </tbody>\n",
              "</table>\n",
              "<p>388 rows × 10 columns</p>\n",
              "</div>"
            ],
            "text/plain": [
              "     Unnamed: 0    Datetime Home Team Initials Away Team Initials Winner  \\\n",
              "0             0  1994-06-17                ESP                KOR    tie   \n",
              "1             1  1994-06-17                GER                BOL   Home   \n",
              "2             2  1994-06-18                USA                SUI    tie   \n",
              "3             3  1994-06-18                ITA                IRL   Away   \n",
              "4             4  1994-06-18                COL                ROU   Away   \n",
              "5             5  1994-06-19                BEL                MAR   Home   \n",
              "6             6  1994-06-19                NOR                MEX   Home   \n",
              "7             7  1994-06-19                CMR                SWE    tie   \n",
              "8             8  1994-06-20                NED                KSA   Home   \n",
              "9             9  1994-06-20                BRA                RUS   Home   \n",
              "10           10  1994-06-21                ARG                GRE   Home   \n",
              "11           11  1994-06-21                NGA                BUL   Home   \n",
              "12           12  1994-06-21                GER                ESP    tie   \n",
              "13           13  1994-06-22                ROU                SUI   Away   \n",
              "14           14  1994-06-22                USA                COL   Home   \n",
              "15           15  1994-06-23                ITA                NOR   Home   \n",
              "16           16  1994-06-23                KOR                BOL    tie   \n",
              "17           17  1994-06-24                MEX                IRL   Home   \n",
              "18           18  1994-06-24                SWE                RUS   Home   \n",
              "19           19  1994-06-24                BRA                CMR   Home   \n",
              "20           20  1994-06-25                BEL                NED   Home   \n",
              "21           21  1994-06-25                KSA                MAR   Home   \n",
              "22           22  1994-06-25                ARG                NGA   Home   \n",
              "23           23  1994-06-26                BUL                GRE   Home   \n",
              "24           24  1994-06-26                USA                ROU   Away   \n",
              "25           25  1994-06-26                SUI                COL   Away   \n",
              "26           26  1994-06-27                GER                KOR   Home   \n",
              "27           27  1994-06-27                BOL                ESP   Away   \n",
              "28           28  1994-06-28                IRL                NOR    tie   \n",
              "29           29  1994-06-28                BRA                SWE    tie   \n",
              "..          ...         ...                ...                ...    ...   \n",
              "358         358  2014-06-30                FRA                NGA   Home   \n",
              "359         359  2014-06-30                GER                ALG   Home   \n",
              "360         360  2014-07-04                BRA                COL   Home   \n",
              "361         361  2014-07-04                FRA                GER   Away   \n",
              "362         362  2014-07-08                BRA                GER   Away   \n",
              "363         363  2014-07-12                BRA                NED   Away   \n",
              "364         364  2014-07-13                GER                ARG   Home   \n",
              "365         365  2014-07-09                NED                ARG    tie   \n",
              "366         366  2014-07-05                NED                CRC    tie   \n",
              "367         367  2014-07-05                ARG                BEL   Home   \n",
              "368         368  2014-06-29                NED                MEX   Home   \n",
              "369         369  2014-06-29                CRC                GRE    tie   \n",
              "370         370  2014-07-01                ARG                SUI   Home   \n",
              "371         371  2014-07-01                BEL                USA   Home   \n",
              "372         372  2014-06-28                BRA                CHI    tie   \n",
              "373         373  2014-06-28                COL                URU   Home   \n",
              "374         374  2014-06-29                NED                MEX   Home   \n",
              "375         375  2014-06-29                CRC                GRE    tie   \n",
              "376         376  2014-06-30                FRA                NGA   Home   \n",
              "377         377  2014-06-30                GER                ALG   Home   \n",
              "378         378  2014-07-01                ARG                SUI   Home   \n",
              "379         379  2014-07-01                BEL                USA   Home   \n",
              "380         380  2014-07-04                FRA                GER   Away   \n",
              "381         381  2014-07-04                BRA                COL   Home   \n",
              "382         382  2014-07-05                ARG                BEL   Home   \n",
              "383         383  2014-07-05                NED                CRC    tie   \n",
              "384         384  2014-07-08                BRA                GER   Away   \n",
              "385         385  2014-07-09                NED                ARG    tie   \n",
              "386         386  2014-07-12                BRA                NED   Away   \n",
              "387         387  2014-07-13                GER                ARG   Home   \n",
              "\n",
              "     Home Rank  Away Rank Host Country  Is Home Host?  Is Away Host?  \n",
              "0            5         37          USA              0              0  \n",
              "1            1         43          USA              0              0  \n",
              "2           23         12          USA              1              0  \n",
              "3            4         14          USA              0              0  \n",
              "4           17          7          USA              0              0  \n",
              "5           27         28          USA              0              0  \n",
              "6            6         16          USA              0              0  \n",
              "7           24         10          USA              0              0  \n",
              "8            2         34          USA              0              0  \n",
              "9            3         19          USA              0              0  \n",
              "10           8         31          USA              0              0  \n",
              "11          11         29          USA              0              0  \n",
              "12           1          5          USA              0              0  \n",
              "13           7         12          USA              0              0  \n",
              "14          23         17          USA              1              0  \n",
              "15           4          6          USA              0              0  \n",
              "16          37         43          USA              0              0  \n",
              "17          16         14          USA              0              0  \n",
              "18          10         19          USA              0              0  \n",
              "19           3         24          USA              0              0  \n",
              "20          27          2          USA              0              0  \n",
              "21          34         28          USA              0              0  \n",
              "22           8         11          USA              0              0  \n",
              "23          29         31          USA              0              0  \n",
              "24          23          7          USA              1              0  \n",
              "25          12         17          USA              0              0  \n",
              "26           1         37          USA              0              0  \n",
              "27          43          5          USA              0              0  \n",
              "28          14          6          USA              0              0  \n",
              "29           3         10          USA              0              0  \n",
              "..         ...        ...          ...            ...            ...  \n",
              "358         17         44          BRA              0              0  \n",
              "359          2         22          BRA              0              0  \n",
              "360          3          8          BRA              1              0  \n",
              "361         17          2          BRA              0              0  \n",
              "362          3          2          BRA              1              0  \n",
              "363          3         15          BRA              1              0  \n",
              "364          2          5          BRA              0              0  \n",
              "365         15          5          BRA              0              0  \n",
              "366         15         28          BRA              0              0  \n",
              "367          5         11          BRA              0              0  \n",
              "368         15         20          BRA              0              0  \n",
              "369         28         12          BRA              0              0  \n",
              "370          5          6          BRA              0              0  \n",
              "371         11         13          BRA              0              0  \n",
              "372          3         14          BRA              1              0  \n",
              "373          8          7          BRA              0              0  \n",
              "374         15         20          BRA              0              0  \n",
              "375         28         12          BRA              0              0  \n",
              "376         17         44          BRA              0              0  \n",
              "377          2         22          BRA              0              0  \n",
              "378          5          6          BRA              0              0  \n",
              "379         11         13          BRA              0              0  \n",
              "380         17          2          BRA              0              0  \n",
              "381          3          8          BRA              1              0  \n",
              "382          5         11          BRA              0              0  \n",
              "383         15         28          BRA              0              0  \n",
              "384          3          2          BRA              1              0  \n",
              "385         15          5          BRA              0              0  \n",
              "386          3         15          BRA              1              0  \n",
              "387          2          5          BRA              0              0  \n",
              "\n",
              "[388 rows x 10 columns]"
            ]
          },
          "metadata": {
            "tags": []
          },
          "execution_count": 33
        }
      ]
    }
  ]
}